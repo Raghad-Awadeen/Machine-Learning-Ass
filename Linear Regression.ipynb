{
 "cells": [
  {
   "cell_type": "markdown",
   "id": "096071b3",
   "metadata": {},
   "source": [
    "# Linear Regression Assignment \n",
    "----"
   ]
  },
  {
   "cell_type": "markdown",
   "id": "4a7419d1",
   "metadata": {},
   "source": [
    "## Problem 1:  Linear Regression\n",
    "---\n",
    "\n",
    "Assume that during a three hour period spent outside a person recorded the temperature and their water consumption. The experiment was conducted on 7 randomly selected days during the summer.\n",
    "\n",
    "**Here is the data:**\n",
    "\n",
    "Day Temp: 98,83,95,74,90,84,82.\n",
    "\n",
    "Water consumed oz: 48,27,48,16,32,25,20.\n",
    "\n",
    "- Calculate the linear regression equation .\n",
    "\n",
    "- Does it have positive or negative correlation?"
   ]
  },
  {
   "cell_type": "code",
   "execution_count": null,
   "id": "479adbab",
   "metadata": {},
   "outputs": [],
   "source": [
    "import numpy as np\n",
    "import pandas as pd\n",
    "from sklearn.model_selection import train_test_split\n",
    "from sklearn.linear_model import LinearRegression\n",
    "from sklearn import metrics"
   ]
  },
  {
   "cell_type": "code",
   "execution_count": null,
   "id": "412981d5",
   "metadata": {},
   "outputs": [],
   "source": [
    "data = pd.read_csv(r'C:\\Users\\DELL\\OneDrive\\Desktop\\Training\\Machine Learning\\Assignments\\water consumption.csv')\n",
    "temp = data['Day Temp'].values.reshape(-1, 1)\n",
    "water_consumed = data['Water consumed'].values\n",
    "\n",
    "model = LinearRegression()\n",
    "\n",
    "model.fit(temp, water_consumed)\n",
    "\n",
    "slope = model.coef_[0]\n",
    "intercept = model.intercept_\n",
    "\n",
    "print(f\"Linear Regression Equation: y = {slope:.2f}x + {intercept:.2f}\")\n",
    "\n",
    "correlation = \"positive\" if slope > 0 else \"negative\"\n",
    "print(f\"The correlation between temperature and water consumption is {correlation}.\")"
   ]
  },
  {
   "cell_type": "code",
   "execution_count": null,
   "id": "7d6bffe6",
   "metadata": {},
   "outputs": [],
   "source": [
    "import matplotlib.pyplot as plt\n",
    "plt.scatter(temp, water_consumed, color = 'red')\n",
    "plt.plot(temp, model.predict(temp), color = 'blue')\n",
    "plt.title('water consumption')\n",
    "plt.xlabel('Day Temp')\n",
    "plt.ylabel('Water consumed')\n",
    "plt.show()"
   ]
  },
  {
   "cell_type": "markdown",
   "id": "6ea9afef",
   "metadata": {},
   "source": [
    "## Problem 2:  Linear Regression\n",
    "---\n",
    "We want to predict the CO2 emission of a car , A csv file contains the data is provided **`cars.csv`** : \n",
    "- Clean the data and explain what you have done.\n",
    "- Build a linear regression model on this data.\n",
    "- Predict the CO2 emission of a car where the weight is 2555, and the volume is 1300cm3.\n",
    "- Do we care about the car brand while using this model ? and why ?."
   ]
  },
  {
   "cell_type": "code",
   "execution_count": 75,
   "id": "6d350747",
   "metadata": {},
   "outputs": [],
   "source": [
    "import pandas as pd\n",
    "import numpy as np\n",
    "import matplotlib.pyplot as plt\n",
    "import seaborn as sns"
   ]
  },
  {
   "cell_type": "code",
   "execution_count": 78,
   "id": "fdcc4f32",
   "metadata": {},
   "outputs": [
    {
     "data": {
      "text/html": [
       "<div>\n",
       "<style scoped>\n",
       "    .dataframe tbody tr th:only-of-type {\n",
       "        vertical-align: middle;\n",
       "    }\n",
       "\n",
       "    .dataframe tbody tr th {\n",
       "        vertical-align: top;\n",
       "    }\n",
       "\n",
       "    .dataframe thead th {\n",
       "        text-align: right;\n",
       "    }\n",
       "</style>\n",
       "<table border=\"1\" class=\"dataframe\">\n",
       "  <thead>\n",
       "    <tr style=\"text-align: right;\">\n",
       "      <th></th>\n",
       "      <th>Car</th>\n",
       "      <th>Model</th>\n",
       "      <th>Volume</th>\n",
       "      <th>Weight</th>\n",
       "      <th>CO2</th>\n",
       "    </tr>\n",
       "  </thead>\n",
       "  <tbody>\n",
       "    <tr>\n",
       "      <th>0</th>\n",
       "      <td>Toyoty</td>\n",
       "      <td>Aygo</td>\n",
       "      <td>1000</td>\n",
       "      <td>790</td>\n",
       "      <td>99</td>\n",
       "    </tr>\n",
       "    <tr>\n",
       "      <th>1</th>\n",
       "      <td>Mitsubishi</td>\n",
       "      <td>Space Star</td>\n",
       "      <td>1200</td>\n",
       "      <td>1160</td>\n",
       "      <td>95</td>\n",
       "    </tr>\n",
       "    <tr>\n",
       "      <th>2</th>\n",
       "      <td>Skoda</td>\n",
       "      <td>Citigo</td>\n",
       "      <td>1000</td>\n",
       "      <td>929</td>\n",
       "      <td>95</td>\n",
       "    </tr>\n",
       "    <tr>\n",
       "      <th>3</th>\n",
       "      <td>Toyota</td>\n",
       "      <td>camry</td>\n",
       "      <td>1200</td>\n",
       "      <td>9,22</td>\n",
       "      <td>99</td>\n",
       "    </tr>\n",
       "    <tr>\n",
       "      <th>4</th>\n",
       "      <td>Fiat</td>\n",
       "      <td>500</td>\n",
       "      <td>900</td>\n",
       "      <td>865</td>\n",
       "      <td>90</td>\n",
       "    </tr>\n",
       "  </tbody>\n",
       "</table>\n",
       "</div>"
      ],
      "text/plain": [
       "          Car       Model Volume Weight  CO2\n",
       "0      Toyoty        Aygo   1000    790   99\n",
       "1  Mitsubishi  Space Star   1200   1160   95\n",
       "2       Skoda      Citigo   1000    929   95\n",
       "3      Toyota       camry   1200   9,22   99\n",
       "4        Fiat         500    900    865   90"
      ]
     },
     "execution_count": 78,
     "metadata": {},
     "output_type": "execute_result"
    }
   ],
   "source": [
    "df = pd.read_csv(r'C:\\Users\\DELL\\OneDrive\\Desktop\\Training\\Machine Learning\\Assignments\\cars.csv')\n",
    "df.head()"
   ]
  },
  {
   "cell_type": "code",
   "execution_count": 79,
   "id": "e84d8e0b",
   "metadata": {},
   "outputs": [
    {
     "data": {
      "text/plain": [
       "Car       object\n",
       "Model     object\n",
       "Volume    object\n",
       "Weight    object\n",
       "CO2        int64\n",
       "dtype: object"
      ]
     },
     "execution_count": 79,
     "metadata": {},
     "output_type": "execute_result"
    }
   ],
   "source": [
    "df.dtypes"
   ]
  },
  {
   "cell_type": "code",
   "execution_count": 80,
   "id": "5d0c4c6c",
   "metadata": {},
   "outputs": [
    {
     "name": "stderr",
     "output_type": "stream",
     "text": [
      "C:\\Users\\DELL\\anaconda3\\lib\\site-packages\\seaborn\\_decorators.py:36: FutureWarning: Pass the following variable as a keyword arg: x. From version 0.12, the only valid positional argument will be `data`, and passing other arguments without an explicit keyword will result in an error or misinterpretation.\n",
      "  warnings.warn(\n"
     ]
    },
    {
     "data": {
      "text/plain": [
       "<AxesSubplot:xlabel='Volume'>"
      ]
     },
     "execution_count": 80,
     "metadata": {},
     "output_type": "execute_result"
    },
    {
     "data": {
      "image/png": "[encoded data removed]",
      "text/plain": [
       "<Figure size 640x480 with 1 Axes>"
      ]
     },
     "metadata": {},
     "output_type": "display_data"
    }
   ],
   "source": [
    "df['Volume'] = pd.to_numeric(df['Volume'], errors='coerce')\n",
    "sns.boxplot(df['Volume'])"
   ]
  },
  {
   "cell_type": "code",
   "execution_count": 82,
   "id": "0cd9a10f",
   "metadata": {},
   "outputs": [],
   "source": [
    "value_to_delete = ['gx'] #delete this value to be be null value then fill it with mean ignoring null value \n",
    "df = df[~df['Volume'].isin(value_to_delete)]\n",
    "\n",
    "df['Volume'] = pd.to_numeric(df['Volume'], errors='coerce')\n",
    "\n",
    "mean_value = np.nanmean(df['Volume'])\n",
    "\n",
    "df['Volume'].fillna(mean_value, inplace=True)\n",
    "\n",
    "df['Volume'] = df['Volume'].astype(int)"
   ]
  },
  {
   "cell_type": "code",
   "execution_count": 83,
   "id": "b5dfad6f",
   "metadata": {},
   "outputs": [],
   "source": [
    "value_to_delete = '9,22'#delete this value to be be null value then fill it with mean ignoring null value\n",
    "\n",
    "df['Weight'] = pd.to_numeric(df['Weight'], errors='coerce')\n",
    "\n",
    "mean_value = np.nanmean(df['Weight'])\n",
    "\n",
    "df['Weight'].fillna(mean_value, inplace=True)\n",
    "\n",
    "df['Weight'] = df['Weight'].astype(int)"
   ]
  },
  {
   "cell_type": "code",
   "execution_count": 84,
   "id": "415b2371",
   "metadata": {},
   "outputs": [
    {
     "name": "stdout",
     "output_type": "stream",
     "text": [
      "550.0\n"
     ]
    }
   ],
   "source": [
    "Q1 = np.percentile(df['Volume'], 25,\n",
    "\t\t\t\tinterpolation = 'midpoint')\n",
    "\n",
    "Q3 = np.percentile(df['Volume'], 75,interpolation = 'midpoint')\n",
    "IQR = Q3 - Q1\n",
    "print(IQR)"
   ]
  },
  {
   "cell_type": "code",
   "execution_count": 85,
   "id": "1fb4f574",
   "metadata": {},
   "outputs": [
    {
     "name": "stdout",
     "output_type": "stream",
     "text": [
      "Highest allowed 2825.0\n",
      "Lowest allowed 625.0\n"
     ]
    }
   ],
   "source": [
    "x=(Q3+1.5*IQR)\n",
    "print(\"Highest allowed\", x)\n",
    "x= (Q1-1.5*IQR)\n",
    "print(\"Lowest allowed\",x)\n",
    "lower = df[(df['Volume'] <= x)]\n",
    "upper = df[(df['Volume'] >= x)]\n",
    "lower = np.where(df['Volume'] <= (Q1-1.5*IQR))\n",
    "df.drop(lower[0], inplace = True)\n"
   ]
  },
  {
   "cell_type": "code",
   "execution_count": 87,
   "id": "e004069c",
   "metadata": {},
   "outputs": [],
   "source": [
    "upper = np.where(df['Volume'] >= (Q3+1.5*IQR))\n",
    "df.drop(upper[0], inplace = True) #deleting the outlier\n"
   ]
  },
  {
   "cell_type": "code",
   "execution_count": 88,
   "id": "623914b6",
   "metadata": {},
   "outputs": [],
   "source": [
    "Q1 = df['Volume'].quantile(0.25)\n",
    "Q3 = df['Volume'].quantile(0.75)\n",
    "IQR = Q3 - Q1\n",
    "lower_bound = Q1 - 1.5 * IQR\n",
    "upper_bound = Q3 + 1.5 * IQR\n",
    "\n",
    "df = df[(df['Volume'] >= lower_bound) & (df['Volume'] <= upper_bound)]\n",
    "\n"
   ]
  },
  {
   "cell_type": "code",
   "execution_count": 89,
   "id": "7053ffb4",
   "metadata": {},
   "outputs": [
    {
     "data": {
      "text/plain": [
       "count      38.000000\n",
       "mean     1605.105263\n",
       "std       385.432210\n",
       "min       900.000000\n",
       "25%      1425.000000\n",
       "50%      1600.000000\n",
       "75%      2000.000000\n",
       "max      2500.000000\n",
       "Name: Volume, dtype: float64"
      ]
     },
     "execution_count": 89,
     "metadata": {},
     "output_type": "execute_result"
    }
   ],
   "source": [
    "df['Volume'].describe()"
   ]
  },
  {
   "cell_type": "code",
   "execution_count": 90,
   "id": "0d45689a",
   "metadata": {},
   "outputs": [],
   "source": [
    "X = df.iloc[:, [2, 3]].values\n",
    "y = df.iloc[:, 4].values"
   ]
  },
  {
   "cell_type": "code",
   "execution_count": 91,
   "id": "a475fbb9",
   "metadata": {},
   "outputs": [],
   "source": [
    "from sklearn.model_selection import train_test_split\n",
    "X_train, X_test, y_train, y_test = train_test_split(X, y, test_size = 0.25, random_state = 0)"
   ]
  },
  {
   "cell_type": "code",
   "execution_count": 92,
   "id": "208b8dfe",
   "metadata": {},
   "outputs": [
    {
     "data": {
      "text/plain": [
       "LinearRegression()"
      ]
     },
     "execution_count": 92,
     "metadata": {},
     "output_type": "execute_result"
    }
   ],
   "source": [
    "from sklearn.linear_model import LinearRegression\n",
    "regressor = LinearRegression()\n",
    "regressor.fit(X_train, y_train)"
   ]
  },
  {
   "cell_type": "code",
   "execution_count": 93,
   "id": "ceda8f17",
   "metadata": {},
   "outputs": [],
   "source": [
    "y_pred = regressor.predict(X_test)"
   ]
  },
  {
   "cell_type": "code",
   "execution_count": 94,
   "id": "eb7e507d",
   "metadata": {},
   "outputs": [
    {
     "name": "stdout",
     "output_type": "stream",
     "text": [
      "33.3322230859804\n",
      "-0.1333635867385381\n"
     ]
    }
   ],
   "source": [
    "from sklearn import metrics\n",
    "print(metrics.mean_squared_error(y_test,y_pred))\n",
    "print(metrics.r2_score(y_test,y_pred))"
   ]
  },
  {
   "cell_type": "code",
   "execution_count": 95,
   "id": "aeadd495",
   "metadata": {},
   "outputs": [
    {
     "data": {
      "image/png": "[encoded data removed]",
      "text/plain": [
       "<Figure size 640x480 with 1 Axes>"
      ]
     },
     "metadata": {},
     "output_type": "display_data"
    }
   ],
   "source": [
    "import matplotlib.pyplot as plt\n",
    "plt.scatter(X_test[:,0], y_test, color = 'red')\n",
    "plt.plot(X_test[:,0], regressor.predict(X_test), color = 'blue')\n",
    "plt.title('Cars')\n",
    "plt.xlabel(['Weight', 'Volume'])\n",
    "plt.ylabel('CO2')\n",
    "plt.show()"
   ]
  },
  {
   "cell_type": "code",
   "execution_count": 96,
   "id": "9d65d0fd",
   "metadata": {},
   "outputs": [
    {
     "name": "stdout",
     "output_type": "stream",
     "text": [
      "predictedCO2 [weight=2555kg, volume=1300ccm]\n",
      "[112.60753894]\n"
     ]
    }
   ],
   "source": [
    "predictedCO2 = regressor.predict([[3300, 1300]])\n",
    "print(\"predictedCO2 [weight=2555kg, volume=1300ccm]\")\n",
    "print(predictedCO2)"
   ]
  },
  {
   "cell_type": "code",
   "execution_count": null,
   "id": "197f8db6",
   "metadata": {},
   "outputs": [],
   "source": [
    "#Q4 It depends on weight & volume"
   ]
  }
 ],
 "metadata": {
  "kernelspec": {
   "display_name": "Python 3 (ipykernel)",
   "language": "python",
   "name": "python3"
  },
  "language_info": {
   "codemirror_mode": {
    "name": "ipython",
    "version": 3
   },
   "file_extension": ".py",
   "mimetype": "text/x-python",
   "name": "python",
   "nbconvert_exporter": "python",
   "pygments_lexer": "ipython3",
   "version": "3.9.13"
  }
 },
 "nbformat": 4,
 "nbformat_minor": 5
}
