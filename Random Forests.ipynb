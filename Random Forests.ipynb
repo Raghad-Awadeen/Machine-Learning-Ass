{
 "cells": [
  {
   "cell_type": "markdown",
   "id": "4a7419d1",
   "metadata": {},
   "source": [
    "## Problem :  Random Forest Regression\n",
    "---\n",
    "\n",
    "- What is the Difference between Random Forests and Decision tree?\n",
    "\n",
    "- When to use random forest ?"
   ]
  },
  {
   "cell_type": "code",
   "execution_count": null,
   "id": "882e6dbf",
   "metadata": {},
   "outputs": [],
   "source": [
    "#Q1\n",
    "# The decision tree algorithm is quite easy to understand and interpret data\n",
    "# Random Forest is a tree-based machine learning algorithm that leverages the power of multiple decision trees for making decisions.\n",
    "# The decision tree model gives high importance to a particular set of features.\n",
    "# But the random forest chooses features randomly during the training process.\n",
    "# Therefore, it does not depend highly on any specific set of features. \n",
    "# This is a special characteristic of random forests over bagging trees. \n",
    "\n",
    "#Q2 \n",
    "# Improve predictive performance and reduce overfitting.\n",
    "# Large Datasets ,Robustness ,Unbalanced Datasets , Complex Data\n",
    "\n",
    "# References\n",
    "# https://www.analyticsvidhya.com/blog/2020/05/decision-tree-vs-random-forest-alg"
   ]
  }
 ],
 "metadata": {
  "kernelspec": {
   "display_name": "Python 3 (ipykernel)",
   "language": "python",
   "name": "python3"
  },
  "language_info": {
   "codemirror_mode": {
    "name": "ipython",
    "version": 3
   },
   "file_extension": ".py",
   "mimetype": "text/x-python",
   "name": "python",
   "nbconvert_exporter": "python",
   "pygments_lexer": "ipython3",
   "version": "3.9.13"
  }
 },
 "nbformat": 4,
 "nbformat_minor": 5
}
