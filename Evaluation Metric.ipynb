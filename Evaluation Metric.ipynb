{
 "cells": [
  {
   "cell_type": "markdown",
   "id": "cca3fd8f",
   "metadata": {},
   "source": [
    "## Problem : Metrics Understanding\n",
    "---\n",
    "\n",
    "We want to build 3 AI models :\n",
    "\n",
    "*   One can detect skin cancer\n",
    "*   One can detect spam messages and move them to the trash \n",
    "*   One can classify fruits\n",
    "\n",
    "knowing that all of your datasets for these projects are unbalanced . What is the best metric you will use to report the performance for each one of these models ?"
   ]
  },
  {
   "cell_type": "code",
   "execution_count": null,
   "id": "b633fc01",
   "metadata": {},
   "outputs": [],
   "source": [
    "# detect skin cancer  the best metric is recall because we want to detect positiveclassesasmuch as possible\n",
    "#detect spam messages and move them to the trash the best metric is precision because we want to be correct when an email is detected as spam.\n",
    "#classify fruitsthe best metric is  F1-score"
   ]
  }
 ],
 "metadata": {
  "kernelspec": {
   "display_name": "Python 3 (ipykernel)",
   "language": "python",
   "name": "python3"
  },
  "language_info": {
   "codemirror_mode": {
    "name": "ipython",
    "version": 3
   },
   "file_extension": ".py",
   "mimetype": "text/x-python",
   "name": "python",
   "nbconvert_exporter": "python",
   "pygments_lexer": "ipython3",
   "version": "3.11.3"
  }
 },
 "nbformat": 4,
 "nbformat_minor": 5
}
